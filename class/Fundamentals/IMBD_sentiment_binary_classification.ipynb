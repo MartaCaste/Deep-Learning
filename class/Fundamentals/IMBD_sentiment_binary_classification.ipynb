{
  "cells": [
    {
      "cell_type": "markdown",
      "metadata": {
        "id": "view-in-github",
        "colab_type": "text"
      },
      "source": [
        "<a href=\"https://colab.research.google.com/github/MartaCaste/Master-Big-Data/blob/main/class/Fundamentals/IMBD_sentiment_binary_classification.ipynb\" target=\"_parent\"><img src=\"https://colab.research.google.com/assets/colab-badge.svg\" alt=\"Open In Colab\"/></a>"
      ]
    },
    {
      "cell_type": "markdown",
      "metadata": {
        "id": "k7eZv7W1FHfa"
      },
      "source": [
        "It is highly recommended to use a powerful **GPU**, you can use it for free uploading this notebook to [Google Colab](https://colab.research.google.com/notebooks/intro.ipynb).\n",
        "<table align=\"center\">\n",
        " <td align=\"center\"><a target=\"_blank\" href=\"https://colab.research.google.com/github/ezponda/intro_deep_learning/blob/main/class/Fundamentals/IMBD_sentiment_binary_classification.ipynb\">\n",
        "        <img src=\"https://i.ibb.co/2P3SLwK/colab.png\"  style=\"padding-bottom:5px;\" />Run in Google Colab</a></td>\n",
        "  <td align=\"center\"><a target=\"_blank\" href=\"https://github.com/ezponda/intro_deep_learning/blob/main/class/Fundamentals/IMBD_sentiment_binary_classification.ipynb\">\n",
        "        <img src=\"https://i.ibb.co/xfJbPmL/github.png\"  height=\"70px\" style=\"padding-bottom:5px;\"  />View Source on GitHub</a></td>\n",
        "</table>"
      ]
    },
    {
      "cell_type": "markdown",
      "metadata": {
        "id": "eJHwSwxaFHff"
      },
      "source": [
        "# Classification Example\n",
        " Two-class classification, or binary classification, may be the most widely applied kind of machine-learning problem. In this example, you’ll learn to classify movie reviews as positive or negative, based on the text content of the reviews.\n"
      ]
    },
    {
      "cell_type": "code",
      "execution_count": 1,
      "metadata": {
        "id": "YmnUGIV1FHfg"
      },
      "outputs": [],
      "source": [
        "import tensorflow as tf\n",
        "from tensorflow import keras\n",
        "from tensorflow.keras import layers\n",
        "import numpy as np"
      ]
    },
    {
      "cell_type": "markdown",
      "metadata": {
        "id": "bwNTgmSuFHfh"
      },
      "source": [
        "## The Dataset: The IMDB dataset\n",
        "We’ll work with the IMDB dataset: a set of 50,000 highly polarized reviews from the Internet Movie Database. They’re split into 25,000 reviews for training and 25,000 reviews for testing, each set consisting of 50% negative and 50% positive reviews. The  parameter `num_words` controls how many words different we want to use."
      ]
    },
    {
      "cell_type": "code",
      "execution_count": 19,
      "metadata": {
        "id": "MTWnw9dcFHfi",
        "outputId": "99254bcb-36ba-45f7-f60e-6e7f85e10784",
        "colab": {
          "base_uri": "https://localhost:8080/"
        }
      },
      "outputs": [
        {
          "output_type": "stream",
          "name": "stdout",
          "text": [
            "[1, 14, 22, 16, 43, 530, 973, 1622, 1385, 65, 458, 4468, 66, 3941, 4, 173, 36, 256, 5, 25, 100, 43, 838, 112, 50, 670, 2, 9, 35, 480, 284, 5, 150, 4, 172, 112, 167, 2, 336, 385, 39, 4, 172, 4536, 1111, 17, 546, 38, 13, 447, 4, 192, 50, 16, 6, 147, 2025, 19, 14, 22, 4, 1920, 4613, 469, 4, 22, 71, 87, 12, 16, 43, 530, 38, 76, 15, 13, 1247, 4, 22, 17, 515, 17, 12, 16, 626, 18, 2, 5, 62, 386, 12, 8, 316, 8, 106, 5, 4, 2223, 5244, 16, 480, 66, 3785, 33, 4, 130, 12, 16, 38, 619, 5, 25, 124, 51, 36, 135, 48, 25, 1415, 33, 6, 22, 12, 215, 28, 77, 52, 5, 14, 407, 16, 82, 2, 8, 4, 107, 117, 5952, 15, 256, 4, 2, 7, 3766, 5, 723, 36, 71, 43, 530, 476, 26, 400, 317, 46, 7, 4, 2, 1029, 13, 104, 88, 4, 381, 15, 297, 98, 32, 2071, 56, 26, 141, 6, 194, 7486, 18, 4, 226, 22, 21, 134, 476, 26, 480, 5, 144, 30, 5535, 18, 51, 36, 28, 224, 92, 25, 104, 4, 226, 65, 16, 38, 1334, 88, 12, 16, 283, 5, 16, 4472, 113, 103, 32, 15, 16, 5345, 19, 178, 32]\n"
          ]
        }
      ],
      "source": [
        "from tensorflow.keras.datasets import imdb\n",
        "num_words = 10000\n",
        "(train_data, train_labels), (test_data, test_labels) = imdb.load_data(num_words=num_words)\n",
        "print(train_data[0])"
      ]
    },
    {
      "cell_type": "code",
      "execution_count": 3,
      "metadata": {
        "id": "2l0zu9rRFHfi",
        "outputId": "1f0904db-f010-4c68-be54-5dbf34142d83",
        "colab": {
          "base_uri": "https://localhost:8080/"
        }
      },
      "outputs": [
        {
          "output_type": "stream",
          "name": "stdout",
          "text": [
            "Downloading data from https://storage.googleapis.com/tensorflow/tf-keras-datasets/imdb_word_index.json\n",
            "1646592/1641221 [==============================] - 0s 0us/step\n",
            "1654784/1641221 [==============================] - 0s 0us/step\n"
          ]
        }
      ],
      "source": [
        "# Transform word_id to word and reverse\n",
        "word2int = imdb.get_word_index()\n",
        "word2int = {w: i+3 for w, i in word2int.items()}\n",
        "word2int[\"<PAD>\"] = 0\n",
        "word2int[\"<START>\"] = 1\n",
        "word2int[\"<UNK>\"] = 2\n",
        "word2int[\"<UNUSED>\"] = 3\n",
        "int2word = {i: w for w, i in word2int.items()}\n",
        "num_words = num_words+3"
      ]
    },
    {
      "cell_type": "markdown",
      "metadata": {
        "id": "bLylIg_xFHfj"
      },
      "source": [
        "For transforming an id-sequence to a phrase use get_words"
      ]
    },
    {
      "cell_type": "code",
      "execution_count": 20,
      "metadata": {
        "id": "YRLwFGlBFHfj",
        "outputId": "7e103a04-a4c7-4832-c038-f2b5f77597b6",
        "colab": {
          "base_uri": "https://localhost:8080/"
        }
      },
      "outputs": [
        {
          "output_type": "stream",
          "name": "stdout",
          "text": [
            "<START> this film was just brilliant casting location scenery story direction everyone's really suited the part they played and you could just imagine being there robert <UNK> is an amazing actor and now the same being director <UNK> father came from the same scottish island as myself so i loved the fact there was a real connection with this film the witty remarks throughout the film were great it was just brilliant so much that i bought the film as soon as it was released for <UNK> and would recommend it to everyone to watch and the fly fishing was amazing really cried at the end it was so sad and you know what they say if you cry at a film it must have been good and this definitely was also <UNK> to the two little boy's that played the <UNK> of norman and paul they were just brilliant children are often left out of the <UNK> list i think because the stars that play them all grown up are such a big profile for the whole film but these children are amazing and should be praised for what they have done don't you think the whole story was so lovely because it was true and was someone's life after all that was shared with us all\n",
            "Sentiment:  1\n"
          ]
        }
      ],
      "source": [
        "def get_words(sentence, int2word):\n",
        "    return ' '.join([int2word.get(i,'<UNK>') for i in sentence])\n",
        "print(get_words(train_data[0], int2word))\n",
        "print('Sentiment: ', train_labels[0])"
      ]
    },
    {
      "cell_type": "markdown",
      "metadata": {
        "id": "XpdB-4dPFHfk"
      },
      "source": [
        "## Data Preprocessing\n",
        "\n",
        "You need to convert your raw text to an appropriate input to a sequential model "
      ]
    },
    {
      "cell_type": "code",
      "execution_count": 21,
      "metadata": {
        "id": "nRjPBGMIFHfl",
        "outputId": "94c618a2-4282-43e6-b07d-6b794a5dfd36",
        "colab": {
          "base_uri": "https://localhost:8080/"
        }
      },
      "outputs": [
        {
          "output_type": "stream",
          "name": "stdout",
          "text": [
            "<START> this film was just brilliant casting location scenery story direction everyone's really suited the part they played and you could just imagine being there robert <UNK> is an amazing actor and now the same being director <UNK> father came from the same scottish island as myself so i loved the fact there was a real connection with this film the witty remarks throughout the film were great it was just brilliant so much that i bought the film as soon as it was released for <UNK> and would recommend it to everyone to watch and the fly fishing was amazing really cried at the end it was so sad and you know what they say if you cry at a film it must have been good and this definitely was also <UNK> to the two little boy's that played the <UNK> of norman and paul they were just brilliant children are often left out of the <UNK> list i think because the stars that play them all grown up are such a big profile for the whole film but these children are amazing and should be praised for what they have done don't you think the whole story was so lovely because it was true and was someone's life after all that was shared with us all\n",
            "[1, 14, 22, 16, 43, 530, 973, 1622, 1385, 65, 458, 4468, 66, 3941, 4, 173, 36, 256, 5, 25, 100, 43, 838, 112, 50, 670, 2, 9, 35, 480, 284, 5, 150, 4, 172, 112, 167, 2, 336, 385, 39, 4, 172, 4536, 1111, 17, 546, 38, 13, 447, 4, 192, 50, 16, 6, 147, 2025, 19, 14, 22, 4, 1920, 4613, 469, 4, 22, 71, 87, 12, 16, 43, 530, 38, 76, 15, 13, 1247, 4, 22, 17, 515, 17, 12, 16, 626, 18, 2, 5, 62, 386, 12, 8, 316, 8, 106, 5, 4, 2223, 5244, 16, 480, 66, 3785, 33, 4, 130, 12, 16, 38, 619, 5, 25, 124, 51, 36, 135, 48, 25, 1415, 33, 6, 22, 12, 215, 28, 77, 52, 5, 14, 407, 16, 82, 2, 8, 4, 107, 117, 5952, 15, 256, 4, 2, 7, 3766, 5, 723, 36, 71, 43, 530, 476, 26, 400, 317, 46, 7, 4, 2, 1029, 13, 104, 88, 4, 381, 15, 297, 98, 32, 2071, 56, 26, 141, 6, 194, 7486, 18, 4, 226, 22, 21, 134, 476, 26, 480, 5, 144, 30, 5535, 18, 51, 36, 28, 224, 92, 25, 104, 4, 226, 65, 16, 38, 1334, 88, 12, 16, 283, 5, 16, 4472, 113, 103, 32, 15, 16, 5345, 19, 178, 32]\n"
          ]
        }
      ],
      "source": [
        "def vectorize_text_sentence(text, word2int):\n",
        "    tokens = text.split(' ')\n",
        "    tokens_id = [word2int.get(tk,2) for tk in tokens]\n",
        "    return tokens_id\n",
        "\n",
        "text = get_words(train_data[0], int2word)\n",
        "print(text)\n",
        "print(vectorize_text_sentence(text, word2int))"
      ]
    },
    {
      "cell_type": "markdown",
      "metadata": {
        "id": "VfMM161YFHfl"
      },
      "source": [
        "### Bag of Words Model BoW\n",
        "We are going to use a bag of words model. BoW is a simplifying representation used in natural language processing. In this model, a text (such as a sentence or a document) is represented as the Each key is the word, and each value is the frequency of occurrences of that word in the given text document.\n",
        "\n",
        "- **Input document**: `\"John likes to watch movies Mary likes movies too\"`\n",
        "- **BoW**: `{'John': 1, 'likes': 2, 'to': 1, 'watch': 1, 'movies': 2, 'Mary': 1, 'too': 1}`\n",
        "- **BoW Normalized**: `{'John': 0.11, 'likes': 0.22, 'to': 0.11, 'watch': 0.11, 'movies': 0.22, 'Mary': 0.11, 'too': 0.11}`\n"
      ]
    },
    {
      "cell_type": "code",
      "execution_count": 22,
      "metadata": {
        "id": "pYfDGa7mFHfm",
        "outputId": "d5674be1-2988-4c5f-cf41-4154e0e099cd",
        "colab": {
          "base_uri": "https://localhost:8080/"
        }
      },
      "outputs": [
        {
          "output_type": "stream",
          "name": "stdout",
          "text": [
            "text_example John likes to watch movies Mary likes movies too\n",
            "text splitted ['John', 'likes', 'to', 'watch', 'movies', 'Mary', 'likes', 'movies', 'too']\n",
            "bag_of_words {'John': 0.1111111111111111, 'likes': 0.2222222222222222, 'to': 0.1111111111111111, 'watch': 0.1111111111111111, 'movies': 0.2222222222222222, 'Mary': 0.1111111111111111, 'too': 0.1111111111111111}\n",
            "bag_of_words norm=False {'John': 1, 'likes': 2, 'to': 1, 'watch': 1, 'movies': 2, 'Mary': 1, 'too': 1}\n",
            "bag_of_words with indexes {308: 1, 1232: 2, 8: 1, 106: 1, 102: 2, 1083: 1, 99: 1}\n"
          ]
        }
      ],
      "source": [
        "from collections import Counter\n",
        "\n",
        "def get_bag_of_words(sequence, norm=True):\n",
        "    word_count = Counter(sequence)\n",
        "    if norm:\n",
        "        total = sum(word_count.values())\n",
        "        word_freq = {w: n / total for w, n in word_count.items()}\n",
        "        return word_freq\n",
        "    else:\n",
        "        return dict(word_count.items())\n",
        "\n",
        "text_example = \"John likes to watch movies Mary likes movies too\"\n",
        "print('text_example', text_example)\n",
        "text_sequence = text_example.split()\n",
        "print('text splitted', text_sequence)\n",
        "bag_of_words = get_bag_of_words(text_sequence)\n",
        "print('bag_of_words', bag_of_words)\n",
        "print('bag_of_words norm=False', get_bag_of_words(text_sequence, norm=False))\n",
        "print(\n",
        "    'bag_of_words with indexes', {\n",
        "        word2int[w.lower()]: p\n",
        "        for w, p in get_bag_of_words(text_sequence, norm=False).items()\n",
        "    })"
      ]
    },
    {
      "cell_type": "markdown",
      "metadata": {
        "id": "xauPwVwKFHfm"
      },
      "source": [
        "### Document Term Matrix\n",
        "\n",
        "We need a way to model the documents so that they are all the same length, so that we can use a neural network. For this we are going to use the document term matrix.\n",
        "- Every document is a vector with the dimension of the vocabulary.\n",
        "- The position i of the vector corresponds to the word with index i.\n",
        "- The vector is all zeros except for the BoW word positions, which are filled with the frequency of the corresponding word.\n",
        "\n",
        "\n",
        "For example:\n",
        "\n",
        "- D1 = \"I like movies\",  `{'I': 1, 'like': 1, 'movies': 1}`\n",
        "\n",
        "- D2 = \"I dislike movies\",  `{'I': 1, 'dislike': 1, 'movies': 1}`\n",
        "\n",
        "Then the document-term matrix would be:\n",
        "\n",
        "\n",
        "\n",
        "   | Doc| I  | like    | dislike   | movies   |\n",
        "|---:|:-------------|:-----------|:------|:------|\n",
        "| D1 | 1  | 1       | 0   | 1     |\n",
        "| D2 | 1  | 0    | 1   | 1     |\n",
        "\n",
        "$D1 = [1,1,0,1]$\n",
        "\n",
        "$D2 = [1,0,1,1]$\n",
        "\n",
        "We convert every BoW to a vector of `dim=num_words` with `vectorize_sequences`"
      ]
    },
    {
      "cell_type": "code",
      "execution_count": 23,
      "metadata": {
        "id": "p9NquU1AFHfn",
        "outputId": "e60e5aca-4a6f-4f85-cb76-e1151d70b3e2",
        "colab": {
          "base_uri": "https://localhost:8080/"
        }
      },
      "outputs": [
        {
          "output_type": "execute_result",
          "data": {
            "text/plain": [
              "((25000, 10000), (25000,))"
            ]
          },
          "metadata": {},
          "execution_count": 23
        }
      ],
      "source": [
        "def vectorize_sequence(sequence, num_words, norm=True):\n",
        "    vec = np.zeros(num_words)\n",
        "    bow = get_bag_of_words(sequence, norm)\n",
        "    for w, freq in bow.items():\n",
        "        if w < num_words:\n",
        "            vec[w] = freq\n",
        "    return vec\n",
        "\n",
        "\n",
        "def vectorize_sequences(sequences, num_words=num_words, norm=True):\n",
        "    \"\"\"Creates an all-zero matrix of shape (len(sequences), num_words)\"\"\"\n",
        "    results = np.zeros((len(sequences), num_words))\n",
        "    for i, sequence in enumerate(sequences):\n",
        "        results[i, :] = vectorize_sequence(sequence, num_words, norm)\n",
        "    return results\n",
        "\n",
        "\n",
        "x_train = vectorize_sequences(train_data, num_words=num_words)\n",
        "x_test = vectorize_sequences(test_data, num_words=num_words)\n",
        "y_train =np.asarray(train_labels).astype('float32')\n",
        "y_test = np.asarray(test_labels).astype('float32')\n",
        "x_train.shape, y_train.shape"
      ]
    },
    {
      "cell_type": "markdown",
      "metadata": {
        "id": "x8AHE-WkFHfn"
      },
      "source": [
        "## Define and train a model \n",
        "\n",
        "Define, compile and fit your NN model\n",
        "\n",
        "1. You can use the [Functional API](https://keras.io/guides/functional_api/):\n",
        "\n",
        "You need to start with an input data entry:\n",
        "```python    \n",
        "    inputs = keras.Input(shape=(8,))\n",
        "    layer_1 = layers.Dense(...)(inputs)\n",
        "```\n",
        "\n",
        "and the network outputs:\n",
        "```python\n",
        "outputs = layers.Dense(...)(previous_layer)\n",
        "model = keras.Model(inputs=inputs, outputs=outputs)\n",
        "```\n",
        "\n",
        "2. Or you can use [Sequential API](https://keras.io/guides/sequential_model/)\n",
        "\n",
        "```python\n",
        "model = keras.Sequential(name='example_model')\n",
        "model.add(layers.Dense(..., input_shape=(8,))\n",
        "model.add(...\n",
        "```\n",
        "\n",
        "First try with only one hidden layer and see the results."
      ]
    },
    {
      "cell_type": "code",
      "execution_count": null,
      "metadata": {
        "id": "0phltGsrFHfo"
      },
      "outputs": [],
      "source": [
        "model = ..."
      ]
    },
    {
      "cell_type": "code",
      "execution_count": 24,
      "metadata": {
        "id": "YMmcVZw4FHfo"
      },
      "outputs": [],
      "source": [
        "inputs = tf.keras.Input(shape=(num_words,), name='input_layer')  # entrada\n",
        "l_1=layers.Dense(10, 'relu')(inputs)\n",
        "outputs= layers.Dense(1, 'sigmoid')(l_1)\n",
        "# Model definition\n",
        "model = keras.Model(inputs=inputs, outputs=outputs)"
      ]
    },
    {
      "cell_type": "code",
      "execution_count": 25,
      "metadata": {
        "id": "jzab8oYjFHfo",
        "outputId": "7f8026e7-2345-4fdd-b1b0-f82f5fed769e",
        "colab": {
          "base_uri": "https://localhost:8080/"
        }
      },
      "outputs": [
        {
          "output_type": "stream",
          "name": "stdout",
          "text": [
            "Epoch 1/10\n",
            "586/586 [==============================] - 4s 6ms/step - loss: 0.6642 - accuracy: 0.7125 - val_loss: 0.6216 - val_accuracy: 0.7302\n",
            "Epoch 2/10\n",
            "586/586 [==============================] - 2s 4ms/step - loss: 0.5551 - accuracy: 0.8196 - val_loss: 0.5008 - val_accuracy: 0.8360\n",
            "Epoch 3/10\n",
            "586/586 [==============================] - 3s 4ms/step - loss: 0.4492 - accuracy: 0.8572 - val_loss: 0.4234 - val_accuracy: 0.8502\n",
            "Epoch 4/10\n",
            "586/586 [==============================] - 2s 4ms/step - loss: 0.3790 - accuracy: 0.8749 - val_loss: 0.3704 - val_accuracy: 0.8698\n",
            "Epoch 5/10\n",
            "586/586 [==============================] - 2s 4ms/step - loss: 0.3332 - accuracy: 0.8872 - val_loss: 0.3386 - val_accuracy: 0.8758\n",
            "Epoch 6/10\n",
            "586/586 [==============================] - 2s 4ms/step - loss: 0.3018 - accuracy: 0.8972 - val_loss: 0.3172 - val_accuracy: 0.8797\n",
            "Epoch 7/10\n",
            "586/586 [==============================] - 2s 4ms/step - loss: 0.2777 - accuracy: 0.9033 - val_loss: 0.3027 - val_accuracy: 0.8818\n",
            "Epoch 8/10\n",
            "586/586 [==============================] - 3s 4ms/step - loss: 0.2585 - accuracy: 0.9100 - val_loss: 0.2944 - val_accuracy: 0.8827\n",
            "Epoch 9/10\n",
            "586/586 [==============================] - 3s 4ms/step - loss: 0.2425 - accuracy: 0.9174 - val_loss: 0.2826 - val_accuracy: 0.8875\n",
            "Epoch 10/10\n",
            "586/586 [==============================] - 3s 5ms/step - loss: 0.2292 - accuracy: 0.9209 - val_loss: 0.2766 - val_accuracy: 0.8872\n"
          ]
        }
      ],
      "source": [
        "model.compile(\n",
        "    optimizer='adam',\n",
        "    loss='binary_crossentropy',\n",
        "    metrics=['accuracy']\n",
        ")\n",
        "history = model.fit(x_train, y_train, validation_split=0.25, epochs= 10, batch_size=32)"
      ]
    },
    {
      "cell_type": "code",
      "execution_count": 26,
      "metadata": {
        "id": "yc18a_eKFHfp",
        "outputId": "ff2d1156-4260-4516-ed5a-1fc32da957b9",
        "colab": {
          "base_uri": "https://localhost:8080/",
          "height": 388
        }
      },
      "outputs": [
        {
          "output_type": "display_data",
          "data": {
            "text/plain": [
              "<Figure size 1152x432 with 2 Axes>"
            ],
            "image/png": "[encoded data removed]"
          },
          "metadata": {
            "needs_background": "light"
          }
        }
      ],
      "source": [
        "import matplotlib.pyplot as plt\n",
        "import pandas as pd\n",
        "def show_loss_accuracy_evolution(hist):\n",
        "\n",
        "    fig, (ax1, ax2) = plt.subplots(1, 2, figsize=(16, 6))\n",
        "\n",
        "    ax1.set_xlabel('Epoch')\n",
        "    ax1.set_ylabel('Sparse Categorical Crossentropy')\n",
        "    ax1.plot(hist['epoch'], hist['loss'], label='Train Error')\n",
        "    ax1.plot(hist['epoch'], hist['val_loss'], label = 'Val Error')\n",
        "    ax1.grid()\n",
        "    ax1.legend()\n",
        "\n",
        "    ax2.set_xlabel('Epoch')\n",
        "    ax2.set_ylabel('Accuracy')\n",
        "    ax2.plot(hist['epoch'], hist['accuracy'], label='Train Accuracy')\n",
        "    ax2.plot(hist['epoch'], hist['val_accuracy'], label = 'Val Accuracy')\n",
        "    ax2.grid()\n",
        "    ax2.legend()\n",
        "\n",
        "    plt.show()\n",
        "    \n",
        "hist = pd.DataFrame(history.history)\n",
        "hist['epoch'] = history.epoch\n",
        "show_loss_accuracy_evolution(hist)"
      ]
    },
    {
      "cell_type": "markdown",
      "metadata": {
        "id": "L93hZ2QbFHfp"
      },
      "source": [
        "### Evaluate the model\n",
        "You need to obtain a Test Accuracy > 0.85. Try to get more than 0.9!"
      ]
    },
    {
      "cell_type": "code",
      "execution_count": 27,
      "metadata": {
        "id": "b3_isPp1FHfp",
        "outputId": "093f4b35-56b2-4248-ebd6-4b57fa1e4219",
        "colab": {
          "base_uri": "https://localhost:8080/"
        }
      },
      "outputs": [
        {
          "output_type": "stream",
          "name": "stdout",
          "text": [
            "782/782 [==============================] - 2s 3ms/step - loss: 0.2898 - accuracy: 0.8838\n",
            "Test Loss: 0.2898121178150177\n",
            "Test Accuracy: 0.8837599754333496\n"
          ]
        }
      ],
      "source": [
        "results = model.evaluate(x_test, y_test, verbose=1)\n",
        "print('Test Loss: {}'.format(results[0]))\n",
        "print('Test Accuracy: {}'.format(results[1]))"
      ]
    },
    {
      "cell_type": "code",
      "execution_count": 28,
      "metadata": {
        "id": "9Ne3EHuCFHfp",
        "outputId": "e38742b7-0833-4dd2-f50b-44a1b8e28bf9",
        "colab": {
          "base_uri": "https://localhost:8080/"
        }
      },
      "outputs": [
        {
          "output_type": "stream",
          "name": "stdout",
          "text": [
            "Predicted : 0, real : 1.0, lenght: 126\n",
            "<START> sleeper cell is what 24 should have been 24 is a cartoon i watch 24 but feel cheated with every stupid episode all four or five seasons so far who can keep track as they are all the same jack gets in trouble jack gets out of trouble and then immediately gets back in to trouble and then sleeper cell is really well done and is far superior unfortunately they blew it with the ending in season two i can think of a half dozen better endings off the top of my head that would have worked better for the writer's obvious goals and not been so contrived shame on the writers for <UNK> what had been up to that ending a really good series\n",
            "\n",
            "Predicted : 1, real : 0.0, lenght: 146\n",
            "<START> this movie came very close to being a good flick the direction needs to be a bit <UNK> to progress from one piece to the next to make it more plausible in particular the main character's need to escape is not explicit enough is he trying to kill himself is he trying to escape his life does not seem to be that bad so it makes it more difficult to swallow that he wants to leave his life so much also it is not very clear how much in love he has fallen with jennifer jason l if the movie was <UNK> with some more attention to these details it would have been great on the other hand for an <UNK> flick it's pretty good maybe if you have a couple of drinks to dull the logical thinking it would be more fun br br\n",
            "\n",
            "Predicted : 0, real : 1.0, lenght: 229\n",
            "<START> if you want to have a great time then this is the movie to watch br br take the premise there is this college which admits people with minimum <UNK> of <UNK> b com m com ma <UNK> b e m tech and so you have to take into account the time consumed and thus it is obvious that all students are 40 also the school admits students of a <UNK> and has a course of p <UNK> in weight loss and the only student who failed this course is only she was a snake in the past life still not convinced ok read on br br here's a scene akshay kumar a college student is chased by and he takes out a <UNK> and shoots him then throws <UNK> then one of the <UNK> hits akshay but doesn't die and continues to fight the snake <UNK> a half foot <UNK> into akshay and <UNK> on it but akshay is still there then akshay gets on a jet <UNK> and follows they fight and <UNK> akshay underwater and finally akshay is dead so we think as soon as is out of the picture akshay <UNK> away to raj principal of this college boxing <UNK> professor <UNK> priest br br but no one i repeat no one takes the cake but a certain mr you watch to learn more\n",
            "\n",
            "Predicted : 1, real : 0.0, lenght: 382\n",
            "<START> i was out of town visiting an old friend after dinner talking he expressed some <UNK> about his daughter's boy friend she's 15 beautiful smart athletic and the young man is also from an excellent family nice also athletic if not as smart i told him he might just be feeling the normal <UNK> concerns however a few minutes later the young man arrived with his dvd of this flick which he had apparently been anxious for some time to share with the others br br these folks have a <UNK> <UNK> home theater set up with a screen something in excess of 4 feet and the two young folks <UNK> to view it while the young <UNK> <UNK> to <UNK> its virtues almost frame by frame br br i saw enough in a few moments and with some fascination in its awfulness to <UNK> all of the most critical comments i've seen in <UNK> some here br br i told my friend i wouldn't go so far as to <UNK> the young <UNK> solely on the basis of his liking this <UNK> but it certainly seems to warrant his bearing close watch br br some flicks are so bad they're good the classic plan 9 from outer space and in my opinion the wonderfully awful bruce <UNK> village people work can't stop the music br br however this one remains firmly simply in the awful category br br second third fourth <UNK> even the best of these e g tim <UNK> don <UNK> everybody with seinfeld have great difficulty in carrying a later starring series or as here film and these were great supporting characters in their original situations br br the eddie character really at about the <UNK> or <UNK> banana level in the prior movies and never added a whole lot to these in my opinion randy quaid is a capable actor who has delivered some good performances his contribution to the prior vacation was average at best both he and the other cast members many of whom have done some good work in the past accomplished nothing for their efforts here except to <UNK> a few <UNK> house <UNK> or some ira <UNK> br br this whole presentation story performances from lead to support couldn't be worse\n",
            "\n",
            "Predicted : 1, real : 0.0, lenght: 128\n",
            "<START> i've read through a lot of the comments here about how this movie sticks to the book i don't think any of them have actually read it edgar rice wrote about a dangerous african jungle and apes were killers and hunters we know differently now and this movie portrays apes in a more modern view i've never seen a tarzan movie that even comes close to <UNK> vision maybe one day hollywood with trust talented and respected authors to tell the story so if you've never read the book and enjoy a good story about feelings and a <UNK> bunny view of wild animals maybe a good cry see the movie i hope john carter of mars <UNK> more respect than tarzan has we miss ya edgar\n",
            "\n",
            "Predicted : 0, real : 1.0, lenght: 59\n",
            "<START> you got to love this movie i mean what other swedish splatter movie could be so evil bizarre and totally cruel the whole movie is stuffed with some kind of weird humor like the old just blows his head off and the boss just <UNK> the blood off his glasses and says with a mean voice your fired\n",
            "\n",
            "Predicted : 0, real : 1.0, lenght: 728\n",
            "<START> i sell the dead is a big sloppy horror comedy that refuses to take itself too seriously this has <UNK> and <UNK> the 85 minutes of the film <UNK> by and the film is full of bits sometimes funny sometimes scary sometimes gory occasionally all three at once but the individual bits are much better than the sum of the film's parts br br the story such as it is follows professional grave <UNK> arthur blake played by dominic <UNK> <UNK> partner in crime willie larry <UNK> has just had his head chopped off for murder and arthur has one night left before his own head is <UNK> for the same crime arthur insists that he is innocent of murder but there are plenty of other crimes that he is willing to confess to when <UNK> with irish <UNK> by a catholic priest played by ron <UNK> br br since the movie is a series of grave robbing <UNK> <UNK> by arthur it becomes a sort of horror anthology a series of disjointed tales all linked by a similar cast arthur and willie and a similar theme grave robbing like most horror <UNK> there is no consistent mythology because all <UNK> are true and happening simultaneously even when they <UNK> one another br br it probably didn't help that i saw this film the same night as trick <UNK> treat a horror anthology that avoids all of the traps that i sell the dead falls into in fact trick <UNK> treat designed as an anthology tells a more <UNK> consistent story than i sell the dead which is intended to be a united narrative br br the other problem with the film and i recognize that this is insane <UNK> picking is the way the film plays fast and loose with history is killed with a <UNK> we might be able to stretch a point and say that he is killed by a scottish maiden a <UNK> to the french <UNK> but the scottish maiden was abandoned in and this film is set a good hundred years later since burke and <UNK> are mentioned and they were executed for murder in grave robbing as an industry became <UNK> with the passage of the <UNK> act <UNK> so the film must take place before then br br i know that bringing this up is the ultimate in historical <UNK> and we are clearly dealing with a universe where all sorts of dead undead and legendary dead are possible but the <UNK> way to anchor a fantasy to convince the audience to suspend their disbelief is to use something real and authentic to <UNK> the fantasy off of and it's not like the history of grave robbers or body <UNK> or call it what you like is a boring story br br the most frustrating thing is that writer director glenn clearly does know the history especially the good bits as an example when first takes on arthur as his apprentice he correctly explains to arthur that as they don't steal the clothes from the dead because stealing corpses is a <UNK> <UNK> by a small fine while stealing clothes is a <UNK> by <UNK> or possibly even death so you would expect and arthur to strip the corpse at this point and for the rest of the film but of course they don't you could <UNK> the director of ignoring his writer's script but not when the writer and the director are the same person br br my point isn't that there should have been a lot of buck naked corpses in the film my point is that if you are going to bring up this <UNK> in the law and make it clear that willie and arthur will follow the law no matter how silly it is than you do have to pursue that thought to its logical conclusion even if that means that willie and arthur wind up chasing a zombie through a graveyard trying to rip his or her clothes off and <UNK> them back in the empty coffin so that they don't get <UNK> for stealing the walking <UNK> clothes otherwise don't bring up the matter at all br br historical <UNK> aside i sell the dead is worth a rental as a slight but funny horror film that could have been much more\n",
            "\n",
            "Predicted : 1, real : 0.0, lenght: 152\n",
            "<START> the director seems like a good solid man his parents struggle with the same issues we all cope with they <UNK> from each other they loved each other they misunderstood each other and the poor audience has to sit through ninety minutes of what is possibly the trials and <UNK> of one of the most boring families ever to come out of long island br br there are few interesting choices in this documentary the music is banal the filming uninspired and the story is the same story that has played out on every <UNK> street in every town in america i don't mean to sound too harsh seldom has a <UNK> more well <UNK> documentary been made the director is the kind of man with whom you'd want to be friends you just wish he had <UNK> as much presenting the material as his parents did keeping their marriage alive\n",
            "\n",
            "Predicted : 1, real : 0.0, lenght: 221\n",
            "<START> may contain spoilers br br i was super excited to go see blood and chocolate with my friends i couldn't wait because the book is one of my favorites but as soon as the movie started i couldn't believe how different it was at first i was like okay so both of her parents are dead maybe it'll be okay but then came the rest of the movie by the time it was over i was furious nothing was correct but their names and the fact that vivian fell in love with <UNK> by the end of the book gabriel was my all time favorite and then the movie goes and turns him into a complete heartless idiot the movie also showed the or werewolves as these vile evil creatures were as the book shows them as just wanting to fit in and keep their pack safe they would never kill humans for the fun of it br br if they wanted to make a movie like they did they should have given it a different title and named the characters different because then i would go out and watch it again and buy it but when i think about it all i can see is the bad you couldn't pay me to go see it again or buy it\n",
            "\n",
            "Predicted : 0, real : 1.0, lenght: 98\n",
            "<START> i've waited 9 years to watch this film simply because i never saw it advertised on tv eventually i caught it and it was well worth the wait it's much better than your over hyped scream or last summer garbage because it's all at a fairly quick pace with no drawn out <UNK> through the house to cheesy music scenes only the bad dubbing lets it down a little but don't let that put you off in any way what lies beneath over hyped and crap mute witness low budget not hyped at all and very good\n",
            "\n"
          ]
        }
      ],
      "source": [
        "def show_errors(x_test, model, labels, int2word, n_samples=10):\n",
        "    preds = 1.0 * (model.predict(x_test).flatten() > 0.5)\n",
        "    bad_pred_inds = np.where(preds != labels)[0]\n",
        "    n_samples = min(len(bad_pred_inds), n_samples)\n",
        "    samples_inds = np.random.choice(bad_pred_inds, n_samples)\n",
        "    for ind in samples_inds:\n",
        "        print('Predicted : {0}, real : {1}, lenght: {2}'.format(\n",
        "            int(preds[ind]), labels[ind], len(test_data[ind])))\n",
        "        print(get_words(test_data[ind], int2word))\n",
        "        print()\n",
        "    return\n",
        "\n",
        "show_errors(x_test, model, y_test, int2word, n_samples=10)"
      ]
    },
    {
      "cell_type": "markdown",
      "metadata": {
        "id": "kWGePvi4FHfq"
      },
      "source": [
        "### Making predictioins with new data"
      ]
    },
    {
      "cell_type": "code",
      "execution_count": 29,
      "metadata": {
        "id": "VKpEJ1N3FHfq",
        "outputId": "04ca43c0-0a94-4522-ec79-8970bd7fcb3c",
        "colab": {
          "base_uri": "https://localhost:8080/"
        }
      },
      "outputs": [
        {
          "output_type": "stream",
          "name": "stdout",
          "text": [
            "\n",
            "the film was really bad and i am very disappointed\n",
            "Sentiment:  0.0\n",
            "\n",
            "The film was very funny entertaining and good we had a great time . brilliant film\n",
            "Sentiment:  1.0\n",
            "\n",
            "this film was just brilliant\n",
            "Sentiment:  0.96\n",
            "\n",
            "the movie is not bad\n",
            "Sentiment:  0.0\n",
            "\n",
            "the movie is not bad I like it\n",
            "Sentiment:  0.0\n"
          ]
        }
      ],
      "source": [
        "reviews = ['the film was really bad and i am very disappointed',\n",
        "           'The film was very funny entertaining and good we had a great time . brilliant film',\n",
        "           'this film was just brilliant',\n",
        "           'the movie is not bad',\n",
        "           'the movie is not bad I like it'\n",
        "]\n",
        "sequences = [vectorize_text_sentence(review.lower(), word2int)\n",
        "             for review in reviews]\n",
        "\n",
        "x_pred = vectorize_sequences(sequences, num_words=num_words)\n",
        "predictions = model.predict(x_pred)\n",
        "for review, pred in zip(reviews, predictions.flatten()):\n",
        "    print()\n",
        "    print(review)\n",
        "    print('Sentiment: ', np.round(pred, 2))"
      ]
    },
    {
      "cell_type": "code",
      "execution_count": 30,
      "metadata": {
        "id": "CUp33QosFHfq",
        "outputId": "80fce72c-4894-40f0-a2bd-4a0dbead8aa9",
        "colab": {
          "base_uri": "https://localhost:8080/"
        }
      },
      "outputs": [
        {
          "output_type": "execute_result",
          "data": {
            "text/plain": [
              "array([[0.],\n",
              "       [1.],\n",
              "       [1.],\n",
              "       [0.],\n",
              "       [0.]])"
            ]
          },
          "metadata": {},
          "execution_count": 30
        }
      ],
      "source": [
        "1.0*(model.predict(x_pred) > 0.5)"
      ]
    },
    {
      "cell_type": "markdown",
      "metadata": {
        "id": "-9BsWvVnFHfq"
      },
      "source": [
        "### Question 1: Repeat the process with unnormalized bag of words, compare results"
      ]
    },
    {
      "cell_type": "code",
      "execution_count": 31,
      "metadata": {
        "id": "KbRUH5-iFHfq",
        "outputId": "0c5836f0-6dc6-4c5c-8f38-07851f3536f6",
        "colab": {
          "base_uri": "https://localhost:8080/"
        }
      },
      "outputs": [
        {
          "output_type": "execute_result",
          "data": {
            "text/plain": [
              "((25000, 10000), (25000,))"
            ]
          },
          "metadata": {},
          "execution_count": 31
        }
      ],
      "source": [
        "x_train = vectorize_sequences(train_data, num_words=num_words, norm=False)\n",
        "x_test = vectorize_sequences(test_data, num_words=num_words, norm=False)\n",
        "y_train =np.asarray(train_labels).astype('float32')\n",
        "y_test = np.asarray(test_labels).astype('float32')\n",
        "x_train.shape, y_train.shape"
      ]
    },
    {
      "cell_type": "code",
      "execution_count": 32,
      "metadata": {
        "id": "VWmuUgoiFHfr"
      },
      "outputs": [],
      "source": [
        "inputs = tf.keras.Input(shape=(num_words,), name='input_layer')  # entrada\n",
        "l_1=layers.Dense(10, 'relu')(inputs)\n",
        "outputs= layers.Dense(1, 'sigmoid')(l_1)\n",
        "# Model definition\n",
        "model = keras.Model(inputs=inputs, outputs=outputs)"
      ]
    },
    {
      "cell_type": "code",
      "execution_count": 33,
      "metadata": {
        "id": "7-xEpafTFHfr",
        "outputId": "41c9d8b5-9c86-4507-d34f-69aec2e88d10",
        "colab": {
          "base_uri": "https://localhost:8080/",
          "height": 787
        }
      },
      "outputs": [
        {
          "output_type": "stream",
          "name": "stdout",
          "text": [
            "Epoch 1/10\n",
            "586/586 [==============================] - 4s 6ms/step - loss: 0.3722 - accuracy: 0.8549 - val_loss: 0.2831 - val_accuracy: 0.8936\n",
            "Epoch 2/10\n",
            "586/586 [==============================] - 2s 4ms/step - loss: 0.2060 - accuracy: 0.9261 - val_loss: 0.2802 - val_accuracy: 0.8933\n",
            "Epoch 3/10\n",
            "586/586 [==============================] - 2s 4ms/step - loss: 0.1455 - accuracy: 0.9484 - val_loss: 0.3052 - val_accuracy: 0.8875\n",
            "Epoch 4/10\n",
            "586/586 [==============================] - 3s 4ms/step - loss: 0.1027 - accuracy: 0.9674 - val_loss: 0.3499 - val_accuracy: 0.8837\n",
            "Epoch 5/10\n",
            "586/586 [==============================] - 3s 4ms/step - loss: 0.0712 - accuracy: 0.9793 - val_loss: 0.3806 - val_accuracy: 0.8814\n",
            "Epoch 6/10\n",
            "586/586 [==============================] - 2s 4ms/step - loss: 0.0495 - accuracy: 0.9879 - val_loss: 0.4231 - val_accuracy: 0.8819\n",
            "Epoch 7/10\n",
            "586/586 [==============================] - 3s 4ms/step - loss: 0.0323 - accuracy: 0.9936 - val_loss: 0.4590 - val_accuracy: 0.8800\n",
            "Epoch 8/10\n",
            "586/586 [==============================] - 2s 4ms/step - loss: 0.0230 - accuracy: 0.9962 - val_loss: 0.5169 - val_accuracy: 0.8784\n",
            "Epoch 9/10\n",
            "586/586 [==============================] - 2s 4ms/step - loss: 0.0136 - accuracy: 0.9987 - val_loss: 0.5542 - val_accuracy: 0.8752\n",
            "Epoch 10/10\n",
            "586/586 [==============================] - 2s 4ms/step - loss: 0.0086 - accuracy: 0.9994 - val_loss: 0.5864 - val_accuracy: 0.8758\n"
          ]
        },
        {
          "output_type": "display_data",
          "data": {
            "text/plain": [
              "<Figure size 1152x432 with 2 Axes>"
            ],
            "image/png": "[encoded data removed]"
          },
          "metadata": {
            "needs_background": "light"
          }
        },
        {
          "output_type": "stream",
          "name": "stdout",
          "text": [
            "782/782 [==============================] - 2s 3ms/step - loss: 0.6648 - accuracy: 0.8568\n",
            "Test Loss: 0.6648426651954651\n",
            "Test Accuracy: 0.8568400144577026\n"
          ]
        }
      ],
      "source": [
        "model.compile(\n",
        "    optimizer='adam',\n",
        "    loss='binary_crossentropy',\n",
        "    metrics=['accuracy']\n",
        ")\n",
        "history = model.fit(x_train, y_train, validation_split=0.25, epochs= 10, batch_size=32)\n",
        "show_loss_accuracy_evolution(hist)\n",
        "results = model.evaluate(x_test, y_test, verbose=1)\n",
        "print('Test Loss: {}'.format(results[0]))\n",
        "print('Test Accuracy: {}'.format(results[1]))"
      ]
    },
    {
      "cell_type": "markdown",
      "metadata": {
        "id": "eF1s-LG6FHfr"
      },
      "source": [
        "### Question 2: What happens if you reduce the size of the vocabulary `num_words`, compare results"
      ]
    },
    {
      "cell_type": "code",
      "execution_count": 34,
      "metadata": {
        "id": "DXpTjmH0FHfr",
        "outputId": "04341d92-c7b2-4dc6-c4c7-313d20c501f7",
        "colab": {
          "base_uri": "https://localhost:8080/"
        }
      },
      "outputs": [
        {
          "output_type": "stream",
          "name": "stdout",
          "text": [
            "[1, 14, 22, 16, 43, 530, 973, 1622, 1385, 65, 458, 4468, 66, 3941, 4, 173, 36, 256, 5, 25, 100, 43, 838, 112, 50, 670, 2, 9, 35, 480, 284, 5, 150, 4, 172, 112, 167, 2, 336, 385, 39, 4, 172, 4536, 1111, 17, 546, 38, 13, 447, 4, 192, 50, 16, 6, 147, 2025, 19, 14, 22, 4, 1920, 4613, 469, 4, 22, 71, 87, 12, 16, 43, 530, 38, 76, 15, 13, 1247, 4, 22, 17, 515, 17, 12, 16, 626, 18, 2, 5, 62, 386, 12, 8, 316, 8, 106, 5, 4, 2223, 5244, 16, 480, 66, 3785, 33, 4, 130, 12, 16, 38, 619, 5, 25, 124, 51, 36, 135, 48, 25, 1415, 33, 6, 22, 12, 215, 28, 77, 52, 5, 14, 407, 16, 82, 2, 8, 4, 107, 117, 5952, 15, 256, 4, 2, 7, 3766, 5, 723, 36, 71, 43, 530, 476, 26, 400, 317, 46, 7, 4, 2, 1029, 13, 104, 88, 4, 381, 15, 297, 98, 32, 2071, 56, 26, 141, 6, 194, 7486, 18, 4, 226, 22, 21, 134, 476, 26, 480, 5, 144, 30, 5535, 18, 51, 36, 28, 224, 92, 25, 104, 4, 226, 65, 16, 38, 1334, 88, 12, 16, 283, 5, 16, 4472, 113, 103, 32, 15, 16, 5345, 19, 178, 32]\n"
          ]
        },
        {
          "output_type": "execute_result",
          "data": {
            "text/plain": [
              "((25000, 8003), (25000,))"
            ]
          },
          "metadata": {},
          "execution_count": 34
        }
      ],
      "source": [
        "num_words = 8000\n",
        "(train_data, train_labels), (test_data, test_labels) = imdb.load_data(num_words=num_words)\n",
        "print(train_data[0])\n",
        "\n",
        "word2int = imdb.get_word_index()\n",
        "word2int = {w: i+3 for w, i in word2int.items()}\n",
        "word2int[\"<PAD>\"] = 0\n",
        "word2int[\"<START>\"] = 1\n",
        "word2int[\"<UNK>\"] = 2\n",
        "word2int[\"<UNUSED>\"] = 3\n",
        "int2word = {i: w for w, i in word2int.items()}\n",
        "num_words = num_words+3\n",
        "\n",
        "x_train = vectorize_sequences(train_data, num_words=num_words)\n",
        "x_test = vectorize_sequences(test_data, num_words=num_words)\n",
        "y_train =np.asarray(train_labels).astype('float32')\n",
        "y_test = np.asarray(test_labels).astype('float32')\n",
        "x_train.shape, y_train.shape"
      ]
    },
    {
      "cell_type": "code",
      "execution_count": 35,
      "metadata": {
        "id": "xMgtHTvPFHfr"
      },
      "outputs": [],
      "source": [
        "inputs = tf.keras.Input(shape=(num_words,), name='input_layer')  # entrada\n",
        "l_1=layers.Dense(10, 'relu')(inputs)\n",
        "outputs= layers.Dense(1, 'sigmoid')(l_1)\n",
        "# Model definition\n",
        "model = keras.Model(inputs=inputs, outputs=outputs)"
      ]
    },
    {
      "cell_type": "code",
      "execution_count": 36,
      "metadata": {
        "id": "f8ZV734EFHfs",
        "outputId": "5b2c27ed-674d-40e7-c791-40e9454fbe2e",
        "colab": {
          "base_uri": "https://localhost:8080/",
          "height": 787
        }
      },
      "outputs": [
        {
          "output_type": "stream",
          "name": "stdout",
          "text": [
            "Epoch 1/10\n",
            "586/586 [==============================] - 3s 4ms/step - loss: 0.6721 - accuracy: 0.6895 - val_loss: 0.6343 - val_accuracy: 0.7960\n",
            "Epoch 2/10\n",
            "586/586 [==============================] - 2s 4ms/step - loss: 0.5806 - accuracy: 0.8087 - val_loss: 0.5302 - val_accuracy: 0.8272\n",
            "Epoch 3/10\n",
            "586/586 [==============================] - 2s 4ms/step - loss: 0.4819 - accuracy: 0.8457 - val_loss: 0.4499 - val_accuracy: 0.8502\n",
            "Epoch 4/10\n",
            "586/586 [==============================] - 2s 4ms/step - loss: 0.4107 - accuracy: 0.8653 - val_loss: 0.3965 - val_accuracy: 0.8642\n",
            "Epoch 5/10\n",
            "586/586 [==============================] - 3s 4ms/step - loss: 0.3623 - accuracy: 0.8782 - val_loss: 0.3611 - val_accuracy: 0.8706\n",
            "Epoch 6/10\n",
            "586/586 [==============================] - 2s 4ms/step - loss: 0.3283 - accuracy: 0.8883 - val_loss: 0.3393 - val_accuracy: 0.8726\n",
            "Epoch 7/10\n",
            "586/586 [==============================] - 2s 4ms/step - loss: 0.3032 - accuracy: 0.8948 - val_loss: 0.3195 - val_accuracy: 0.8778\n",
            "Epoch 8/10\n",
            "586/586 [==============================] - 3s 4ms/step - loss: 0.2835 - accuracy: 0.9004 - val_loss: 0.3067 - val_accuracy: 0.8784\n",
            "Epoch 9/10\n",
            "586/586 [==============================] - 3s 4ms/step - loss: 0.2673 - accuracy: 0.9049 - val_loss: 0.2967 - val_accuracy: 0.8827\n",
            "Epoch 10/10\n",
            "586/586 [==============================] - 2s 4ms/step - loss: 0.2538 - accuracy: 0.9113 - val_loss: 0.2889 - val_accuracy: 0.8853\n"
          ]
        },
        {
          "output_type": "display_data",
          "data": {
            "text/plain": [
              "<Figure size 1152x432 with 2 Axes>"
            ],
            "image/png": "[encoded data removed]"
          },
          "metadata": {
            "needs_background": "light"
          }
        },
        {
          "output_type": "stream",
          "name": "stdout",
          "text": [
            "782/782 [==============================] - 2s 3ms/step - loss: 0.2992 - accuracy: 0.8798\n",
            "Test Loss: 0.29924657940864563\n",
            "Test Accuracy: 0.8797600269317627\n"
          ]
        }
      ],
      "source": [
        "model.compile(\n",
        "    optimizer='adam',\n",
        "    loss='binary_crossentropy',\n",
        "    metrics=['accuracy']\n",
        ")\n",
        "history = model.fit(x_train, y_train, validation_split=0.25, epochs= 10, batch_size=32)\n",
        "show_loss_accuracy_evolution(hist)\n",
        "results = model.evaluate(x_test, y_test, verbose=1)\n",
        "print('Test Loss: {}'.format(results[0]))\n",
        "print('Test Accuracy: {}'.format(results[1]))"
      ]
    },
    {
      "cell_type": "code",
      "execution_count": 37,
      "metadata": {
        "id": "RQ3df6eEFHfs",
        "outputId": "99839fb5-d8d1-4225-8c25-458cc2d50380",
        "colab": {
          "base_uri": "https://localhost:8080/"
        }
      },
      "outputs": [
        {
          "output_type": "stream",
          "name": "stdout",
          "text": [
            "\n",
            "the film was really bad and i am very disappointed\n",
            "Sentiment:  0.0\n",
            "\n",
            "The film was very funny entertaining and good we had a great time . brilliant film\n",
            "Sentiment:  1.0\n",
            "\n",
            "this film was just brilliant\n",
            "Sentiment:  0.88\n",
            "\n",
            "the movie is not bad\n",
            "Sentiment:  0.0\n",
            "\n",
            "the movie is not bad I like it\n",
            "Sentiment:  0.0\n"
          ]
        }
      ],
      "source": [
        "reviews = [\n",
        "    'the film was really bad and i am very disappointed',\n",
        "    'The film was very funny entertaining and good we had a great time . brilliant film',\n",
        "    'this film was just brilliant', 'the movie is not bad',\n",
        "    'the movie is not bad I like it'\n",
        "]\n",
        "sequences = [\n",
        "    vectorize_text_sentence(review.lower(), word2int) for review in reviews\n",
        "]\n",
        "\n",
        "x_pred = vectorize_sequences(sequences, num_words=num_words)\n",
        "predictions = model.predict(x_pred)\n",
        "for review, pred in zip(reviews, predictions.flatten()):\n",
        "    print()\n",
        "    print(review)\n",
        "    print('Sentiment: ', np.round(pred, 2))"
      ]
    },
    {
      "cell_type": "markdown",
      "metadata": {
        "id": "JCdfXqwKFHfs"
      },
      "source": [
        "### Compare with other ML algorithms"
      ]
    },
    {
      "cell_type": "code",
      "execution_count": 38,
      "metadata": {
        "id": "4w_GfEQHFHfs",
        "outputId": "1a96a5bc-5c71-4be6-f42a-770034d0e84c",
        "colab": {
          "base_uri": "https://localhost:8080/"
        }
      },
      "outputs": [
        {
          "output_type": "stream",
          "name": "stdout",
          "text": [
            "Test Accuracy: 0.72392\n"
          ]
        }
      ],
      "source": [
        "from sklearn.linear_model import LogisticRegression\n",
        "clr = LogisticRegression()\n",
        "clr.fit(x_train, y_train)\n",
        "val_acc = clr.score(x_test, y_test)\n",
        "print('Test Accuracy: {}'.format(val_acc))"
      ]
    },
    {
      "cell_type": "code",
      "execution_count": 39,
      "metadata": {
        "id": "BrRYiRbHFHfs",
        "outputId": "a7712650-755e-43a4-ba1a-50e255df55c8",
        "colab": {
          "base_uri": "https://localhost:8080/"
        }
      },
      "outputs": [
        {
          "output_type": "stream",
          "name": "stdout",
          "text": [
            "Test Accuracy: 0.8088\n"
          ]
        }
      ],
      "source": [
        "from sklearn.ensemble import RandomForestClassifier\n",
        "rfc = RandomForestClassifier(max_depth=5, n_jobs=-1)\n",
        "rfc.fit(x_train, y_train)\n",
        "val_acc = rfc.score(x_test, y_test)\n",
        "print('Test Accuracy: {}'.format(val_acc))"
      ]
    },
    {
      "cell_type": "code",
      "execution_count": 40,
      "metadata": {
        "id": "EAOnfe0xFHft",
        "outputId": "c87786b3-9a9d-4131-cde6-ae33c970455e",
        "colab": {
          "base_uri": "https://localhost:8080/"
        }
      },
      "outputs": [
        {
          "output_type": "stream",
          "name": "stdout",
          "text": [
            "Test Accuracy: 0.8454\n"
          ]
        }
      ],
      "source": [
        "from sklearn.ensemble import RandomForestClassifier\n",
        "rfc = RandomForestClassifier(n_jobs=-1)\n",
        "rfc.fit(x_train, y_train)\n",
        "val_acc = rfc.score(x_test, y_test)\n",
        "print('Test Accuracy: {}'.format(val_acc))"
      ]
    },
    {
      "cell_type": "code",
      "execution_count": 41,
      "metadata": {
        "id": "TOaWb609FHft",
        "outputId": "8bf73e87-e2d3-4f00-c4fa-7a590eedf85e",
        "colab": {
          "base_uri": "https://localhost:8080/"
        }
      },
      "outputs": [
        {
          "output_type": "stream",
          "name": "stdout",
          "text": [
            "First training review:  <START> this film was just brilliant casting location scenery story direction everyone's really suited the part they played and you could just imagine being there robert <UNK> is an amazing actor and now the same being director <UNK> father came from the same scottish island as myself so i loved the fact there was a real connection with this film the witty remarks throughout the film were great it was just brilliant so much that i bought the film as soon as it was released for <UNK> and would recommend it to everyone to watch and the fly fishing was amazing really cried at the end it was so sad and you know what they say if you cry at a film it must have been good and this definitely was also <UNK> to the two little boy's that played the <UNK> of norman and paul they were just brilliant children are often left out of the <UNK> list i think because the stars that play them all grown up are such a big profile for the whole film but these children are amazing and should be praised for what they have done don't you think the whole story was so lovely because it was true and was someone's life after all that was shared with us all\n"
          ]
        }
      ],
      "source": [
        "reviews = []\n",
        "# training reviews\n",
        "for ind in range(len(train_data)):\n",
        "    sentence = train_data[ind]\n",
        "    sentence_text = get_words(train_data[ind], int2word)\n",
        "    reviews.append(sentence_text)\n",
        "print('First training review: ', reviews[0])"
      ]
    }
  ],
  "metadata": {
    "kernelspec": {
      "display_name": "Python 3",
      "language": "python",
      "name": "python3"
    },
    "language_info": {
      "codemirror_mode": {
        "name": "ipython",
        "version": 3
      },
      "file_extension": ".py",
      "mimetype": "text/x-python",
      "name": "python",
      "nbconvert_exporter": "python",
      "pygments_lexer": "ipython3",
      "version": "3.8.5"
    },
    "colab": {
      "name": "IMBD_sentiment_binary_classification.ipynb",
      "provenance": [],
      "include_colab_link": true
    },
    "accelerator": "GPU"
  },
  "nbformat": 4,
  "nbformat_minor": 0
}